{
 "cells": [
  {
   "cell_type": "code",
   "execution_count": 1,
   "metadata": {},
   "outputs": [
    {
     "name": "stdout",
     "output_type": "stream",
     "text": [
      "Malgun Gothic\n"
     ]
    }
   ],
   "source": [
    "import requests\n",
    "import pandas as pd\n",
    "import json\n",
    "import re\n",
    "import numpy as np\n",
    "import matplotlib\n",
    "import matplotlib.pyplot as plt\n",
    "import numpy as np\n",
    "%matplotlib inline\n",
    "from pandas.io.json import json_normalize\n",
    "requests.packages.urllib3.disable_warnings()\n",
    "from matplotlib import font_manager,rc\n",
    "font_location = \"C:/Windows/Fonts/malgun.ttf\"\n",
    "font_name = font_manager.FontProperties(fname=font_location).get_name()\n",
    "print(font_name)\n",
    "rc('font',family = font_name)\n",
    "matplotlib.rcParams['font.family']\n",
    "matplotlib.matplotlib_fname()\n",
    "from selenium import webdriver\n",
    "from bs4 import BeautifulSoup as bs4\n",
    "import datetime\n",
    "import glob"
   ]
  },
  {
   "cell_type": "code",
   "execution_count": 2,
   "metadata": {
    "collapsed": true
   },
   "outputs": [],
   "source": [
    "response = requests.get('http://www.enuri.com/lsv2016/ajax/getListGoods_ajax.jsp?random_seq=251&pageNum=1&pageGap=90&tabType=0&cate=240616&keyword=&brand=&factory=&shop_code=&prtmodelno=&gb1=&gb2=&sponsorList=&infoAdList=&IsDeliverySumPrice=N&IsJungoPriceRemove=N&m_price=&start_price=&end_price=')"
   ]
  },
  {
   "cell_type": "code",
   "execution_count": 7,
   "metadata": {},
   "outputs": [],
   "source": [
    "data = json.loads(response.text)"
   ]
  },
  {
   "cell_type": "code",
   "execution_count": 13,
   "metadata": {},
   "outputs": [
    {
     "data": {
      "text/plain": [
       "'$TAG$_199293_3_공기청정기$END$/$TAG$_199300_1_복합식(필터+이온)$END$/$TAG$_199305_0_사용면적$END$:58㎡/$TAG$_199306_1_<b>CA인증</b>$END$/천식협회인증(KAF)/알레르기협회인증(BAF)/3단계필터/필터구성:극세필터,토탈알러지집진필터,토탈유해가스필터/$TAG$_199311_25_제균이오나이저(음이온+제균)$END$/센서:PM1.0,냄새/$TAG$_199312_14_미세먼지제거$END$/$TAG$_199312_53_<b>초미세먼지제거</b>$END$/$TAG$_199312_16_VOCs(새집증후군)제거$END$/$TAG$_199312_38_청정도표시(4단계)$END$/$TAG$_199313_0_풍량조절$END$:4단/$TAG$_130795_0_모드$END$:자동,$TAG$_130795_42_취침$END$,$TAG$_130795_49_터보$END$,싱글청정,예약/$TAG$_199315_19_필터점검알림$END$/$TAG$_199315_21_무드램프$END$/$TAG$_199315_35_리모컨$END$/스마트폰제어/클린부스터/에어홀/$TAG$_130891_0_에너지효율$END$:2등급/$TAG$_199324_0_소비전력$END$:40W/크기:36 x 59.7 x 36cm'"
      ]
     },
     "execution_count": 13,
     "metadata": {},
     "output_type": "execute_result"
    }
   ],
   "source": [
    "data['lpList'][0]['spec_vip_tag']"
   ]
  },
  {
   "cell_type": "code",
   "execution_count": 98,
   "metadata": {
    "collapsed": true
   },
   "outputs": [],
   "source": [
    "i=0\n",
    "j=1\n",
    "dtarray=[]\n",
    "modelname=[]\n",
    "y=True\n",
    "x=True"
   ]
  },
  {
   "cell_type": "code",
   "execution_count": 91,
   "metadata": {
    "collapsed": true
   },
   "outputs": [],
   "source": [
    "response = requests.get('http://www.enuri.com/lsv2016/ajax/getListGoods_ajax.jsp?random_seq=251&pageNum=9&pageGap=90&tabType=0&cate=240616&keyword=&brand=&factory=&shop_code=&prtmodelno=&gb1=&gb2=&sponsorList=&infoAdList=&IsDeliverySumPrice=N&IsJungoPriceRemove=N&m_price=&start_price=&end_price=')\n",
    "        "
   ]
  },
  {
   "cell_type": "code",
   "execution_count": 94,
   "metadata": {},
   "outputs": [
    {
     "data": {
      "text/plain": [
       "0"
      ]
     },
     "execution_count": 94,
     "metadata": {},
     "output_type": "execute_result"
    }
   ],
   "source": [
    "len(json.loads(response.text)['lpList'])"
   ]
  },
  {
   "cell_type": "code",
   "execution_count": 95,
   "metadata": {
    "collapsed": true
   },
   "outputs": [],
   "source": [
    "response = requests.get('http://www.enuri.com/lsv2016/ajax/getListGoods_ajax.jsp?random_seq=251&pageNum=8&pageGap=90&tabType=0&cate=240616&keyword=&brand=&factory=&shop_code=&prtmodelno=&gb1=&gb2=&sponsorList=&infoAdList=&IsDeliverySumPrice=N&IsJungoPriceRemove=N&m_price=&start_price=&end_price=')\n",
    "        "
   ]
  },
  {
   "cell_type": "code",
   "execution_count": 96,
   "metadata": {},
   "outputs": [
    {
     "data": {
      "text/plain": [
       "32"
      ]
     },
     "execution_count": 96,
     "metadata": {},
     "output_type": "execute_result"
    }
   ],
   "source": [
    "len(json.loads(response.text)['lpList'])"
   ]
  },
  {
   "cell_type": "code",
   "execution_count": 106,
   "metadata": {
    "collapsed": true
   },
   "outputs": [],
   "source": [
    "i=0\n",
    "j=1\n",
    "dtarray=[]\n",
    "modelname=[]\n",
    "x=True"
   ]
  },
  {
   "cell_type": "code",
   "execution_count": 107,
   "metadata": {},
   "outputs": [
    {
     "name": "stdout",
     "output_type": "stream",
     "text": [
      "1번째 response\n",
      "92\n",
      "2번째 response\n",
      "182\n",
      "3번째 response\n",
      "272\n",
      "4번째 response\n",
      "362\n",
      "5번째 response\n",
      "452\n",
      "6번째 response\n",
      "542\n",
      "7번째 response\n",
      "632\n",
      "8번째 response\n",
      "664\n",
      "9번째 response\n",
      "lpList 값이 0이므로 반복문 종료\n"
     ]
    }
   ],
   "source": [
    "while True:\n",
    "        response = requests.get('http://www.enuri.com/lsv2016/ajax/getListGoods_ajax.jsp?random_seq=251&pageNum='+str(j)+'&pageGap=90&tabType=0&cate=240616&keyword=&brand=&factory=&shop_code=&prtmodelno=&gb1=&gb2=&sponsorList=&infoAdList=&IsDeliverySumPrice=N&IsJungoPriceRemove=N&m_price=&start_price=&end_price=')\n",
    "        data=json.loads(response.text)\n",
    "        print(str(j)+'번째 response')\n",
    "        i=0\n",
    "        j+=1\n",
    "        x=True\n",
    "        if len(data['lpList'])==0:\n",
    "            print('lpList 값이 0이므로 반복문 종료')\n",
    "            break\n",
    "        while x is True:\n",
    "            try:\n",
    "                dtarray.append(data['lpList'][i]['spec_vip_tag'])\n",
    "                modelname.append(data['lpList'][i]['strModelName'])\n",
    "                i+=1\n",
    "                \n",
    "            except:\n",
    "                x=False\n",
    "                print(len(modelname))\n",
    "        "
   ]
  },
  {
   "cell_type": "code",
   "execution_count": 102,
   "metadata": {},
   "outputs": [
    {
     "data": {
      "text/plain": [
       "664"
      ]
     },
     "execution_count": 102,
     "metadata": {},
     "output_type": "execute_result"
    }
   ],
   "source": [
    "len(modelname)"
   ]
  },
  {
   "cell_type": "code",
   "execution_count": null,
   "metadata": {},
   "outputs": [],
   "source": []
  },
  {
   "cell_type": "code",
   "execution_count": null,
   "metadata": {
    "collapsed": true
   },
   "outputs": [],
   "source": []
  },
  {
   "cell_type": "code",
   "execution_count": null,
   "metadata": {
    "collapsed": true
   },
   "outputs": [],
   "source": []
  },
  {
   "cell_type": "code",
   "execution_count": null,
   "metadata": {
    "collapsed": true
   },
   "outputs": [],
   "source": []
  }
 ],
 "metadata": {
  "kernelspec": {
   "display_name": "Python 3",
   "language": "python",
   "name": "python3"
  },
  "language_info": {
   "codemirror_mode": {
    "name": "ipython",
    "version": 3
   },
   "file_extension": ".py",
   "mimetype": "text/x-python",
   "name": "python",
   "nbconvert_exporter": "python",
   "pygments_lexer": "ipython3",
   "version": "3.6.3"
  }
 },
 "nbformat": 4,
 "nbformat_minor": 2
}
